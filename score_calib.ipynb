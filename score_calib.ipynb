{
 "cells": [
  {
   "cell_type": "code",
   "execution_count": null,
   "metadata": {},
   "outputs": [],
   "source": [
    "msrvtt10k_files = \"/home/mrim/tools/irim/pytorch/danieljf24/VisualSearch/msrvtt10k_files/results_\"\n",
    "# concept_ext_model_best = \"/msrvtt10k_model_best.pth.tar/\"\n",
    "concept_ext_model_best = \"_concept_only/model_best_concept.pth/\"\n",
    "# concept_ext_model_best = \"_cxd/model_best_concept_cxd.pth/\"\n",
    "\n",
    "import numpy as np\n",
    "splits = ['train', 'test', 'val']\n",
    "scores_cap, scores_vid = [], []\n",
    "scores_cap.append(np.load(msrvtt10k_files + \"train\" + concept_ext_model_best + \"pre_sig_cap_prob_train.npy\"))\n",
    "scores_vid.append(np.load(msrvtt10k_files + \"train\" + concept_ext_model_best + \"pre_sig_vid_prob_train.npy\"))\n",
    "scores_cap.append(np.load(msrvtt10k_files + \"test\" + concept_ext_model_best + \"pre_sig_cap_prob_test.npy\"))\n",
    "scores_vid.append(np.load(msrvtt10k_files + \"test\" + concept_ext_model_best + \"pre_sig_vid_prob_test.npy\"))\n",
    "scores_cap.append(np.load(msrvtt10k_files + \"val\" + concept_ext_model_best + \"pre_sig_cap_prob_val.npy\"))\n",
    "scores_vid.append(np.load(msrvtt10k_files + \"val\" + concept_ext_model_best + \"pre_sig_vid_prob_val.npy\"))\n",
    "labels_cap, labels_vid = [], []\n",
    "labels_cap.append(np.load(msrvtt10k_files + \"train/msrvtt10k_model_best.pth.tar/train_sent_binary_labels.npy\"))\n",
    "labels_vid.append(np.load(msrvtt10k_files + \"train/msrvtt10k_model_best.pth.tar/train_vid_soft_labels.npy\"))\n",
    "labels_cap.append(np.load(msrvtt10k_files + \"test/msrvtt10k_model_best.pth.tar/test_sent_binary_labels.npy\"))\n",
    "labels_vid.append(np.load(msrvtt10k_files + \"test/msrvtt10k_model_best.pth.tar/test_vid_soft_labels.npy\"))\n",
    "labels_cap.append(np.load(msrvtt10k_files + \"val/msrvtt10k_model_best.pth.tar/val_sent_binary_labels.npy\"))\n",
    "labels_vid.append(np.load(msrvtt10k_files + \"val/msrvtt10k_model_best.pth.tar/val_vid_soft_labels.npy\"))\n",
    "print(scores_cap[0].shape, scores_cap[1].shape, scores_cap[2].shape)\n",
    "print(scores_vid[0].shape, scores_vid[1].shape, scores_vid[2].shape)\n",
    "n_concepts = scores_cap[0].shape[1]\n",
    "\n",
    "from itertools import islice\n",
    "with open(msrvtt10k_files + \"train/msrvtt10k_model_best.pth.tar/all_words.txt\") as f:\n",
    "    cc=[line.split() for line in islice(f, n_concepts)]\n",
    "cname = [c[0] for c in cc]\n",
    "ccount = [int(c[1]) for c in cc]"
   ]
  },
  {
   "cell_type": "code",
   "execution_count": null,
   "metadata": {},
   "outputs": [],
   "source": [
    "np.set_printoptions(precision=3, threshold=None, edgeitems=None, linewidth=100, suppress=True, formatter=None,\n",
    "                    sign=None, floatmode='fixed')"
   ]
  },
  {
   "cell_type": "code",
   "execution_count": null,
   "metadata": {},
   "outputs": [],
   "source": [
    "soft_th = 0.07  # Soft labels threshold\n",
    "hlabels_vid = [labels_vid_split > soft_th for labels_vid_split in labels_vid]\n",
    "\n",
    "from sklearn.metrics import average_precision_score\n",
    "import warnings\n",
    "\n",
    "def get_data_one(scores, labels, j, c):\n",
    "    with np.errstate(divide='ignore', invalid='ignore'):\n",
    "        ap = average_precision_score(labels[j][:,c], scores[j][:,c], average=None)\n",
    "    scores0 = scores[j][:,c][labels[j][:,c] == 0.0]\n",
    "    scores1 = scores[j][:,c][labels[j][:,c] == 1.0]\n",
    "    n0, n1 = scores0.shape[0], scores1.shape[0]\n",
    "    with warnings.catch_warnings():\n",
    "        warnings.simplefilter(\"ignore\", category=RuntimeWarning)\n",
    "        mu0, mu1 = np.mean(scores0), np.mean(scores1)\n",
    "    if n0 > 1 and n1 > 1:\n",
    "        sigma0 = np.sqrt((np.square(scores0-mu0).sum())/(n0-1))\n",
    "        sigma1 = np.sqrt((np.square(scores1-mu1).sum())/(n1-1))\n",
    "        z = (mu1-mu0)/(sigma0+sigma1)\n",
    "    else: z = np.nan\n",
    "    sigma = np.sqrt((np.square(scores0-mu0).sum()+np.square(scores1-mu1).sum())/(n0+n1-1))\n",
    "    a = (mu1-mu0)/(sigma*sigma)\n",
    "    with np.errstate(divide='ignore', invalid='ignore'):\n",
    "        b = np.log(np.float64(n1)/np.float64(n0))-0.5*(mu1*mu1-mu0*mu0)/(sigma*sigma)\n",
    "        r = np.float64(n0)/np.float64(n1)\n",
    "    return(scores0, scores1, ap, z, n0, n1, mu0, mu1, sigma, a, b, r)\n",
    "\n",
    "def get_data(scores, labels, splits, cname):\n",
    "    return([[get_data_one(scores, labels, j, c) for c in range(len(cname))] for j in range(len(splits))])\n",
    "\n",
    "data_cap = get_data(scores_cap, labels_cap, splits, cname)\n",
    "data_vid = get_data(scores_vid, hlabels_vid, splits, cname)\n",
    "z_cap = np.array([[data_cap[j][c][3] for c in range(len(cname))] for j in range(len(splits))])\n",
    "z_vid = np.array([[data_vid[j][c][3] for c in range(len(cname))] for j in range(len(splits))])\n",
    "ap_cap = np.array([[data_cap[j][c][2] for c in range(len(cname))] for j in range(len(splits))])\n",
    "ap_vid = np.array([[data_vid[j][c][2] for c in range(len(cname))] for j in range(len(splits))])\n",
    "map_cap = np.nanmean(ap_cap, axis=1)\n",
    "map_vid = np.nanmean(ap_vid, axis=1)\n",
    "print(\"MAP   train    test    val\")\n",
    "print(\"cap   %.3f   %.3f   %.3f\" % (map_cap[0], map_cap[1], map_cap[2]))\n",
    "print(\"vid   %.3f   %.3f   %.3f\" % (map_vid[0], map_vid[1], map_vid[2]))"
   ]
  },
  {
   "cell_type": "code",
   "execution_count": null,
   "metadata": {},
   "outputs": [],
   "source": [
    "import seaborn as sns\n",
    "sns.histplot([scores_cap[0][:,0], scores_vid[0][:,0]], bins=40, binrange=[-4,6], kde=True,\n",
    "             element='step', stat='probability', fill=False, common_norm=False)"
   ]
  },
  {
   "cell_type": "code",
   "execution_count": null,
   "metadata": {},
   "outputs": [],
   "source": [
    "sns.histplot([scores_cap[1][:,0], scores_vid[1][:,0]], bins=40, binrange=[-4,6], kde=True,\n",
    "             element='step', stat='probability', fill=False, common_norm=False)"
   ]
  },
  {
   "cell_type": "code",
   "execution_count": null,
   "metadata": {},
   "outputs": [],
   "source": [
    "sns.histplot([scores_cap[0][:,-1], scores_vid[0][:,-1]], bins=40, binrange=[-4,6], kde=True,\n",
    "             element='step', stat='probability', fill=False, common_norm=False)"
   ]
  },
  {
   "cell_type": "code",
   "execution_count": null,
   "metadata": {},
   "outputs": [],
   "source": [
    "sns.histplot([scores_cap[1][:,-1], scores_vid[1][:,-1]], bins=40, binrange=[-4,6], kde=True,\n",
    "             element='step', stat='probability', fill=False, common_norm=False)"
   ]
  },
  {
   "cell_type": "code",
   "execution_count": null,
   "metadata": {},
   "outputs": [],
   "source": [
    "sns.kdeplot([scores_cap[0][:,0], scores_vid[0][:,0]], clip=[-4,6], bw_adjust=2.0, common_norm=False)"
   ]
  },
  {
   "cell_type": "code",
   "execution_count": null,
   "metadata": {},
   "outputs": [],
   "source": [
    "sns.kdeplot([scores_cap[1][:,0], scores_vid[1][:,0]], clip=[-4,6], bw_adjust=2.0, common_norm=False)"
   ]
  },
  {
   "cell_type": "code",
   "execution_count": null,
   "metadata": {},
   "outputs": [],
   "source": [
    "sns.kdeplot([scores_cap[0][:,-1], scores_vid[0][:,-1]], clip=[-4,6], bw_adjust=2.0, common_norm=False)"
   ]
  },
  {
   "cell_type": "code",
   "execution_count": null,
   "metadata": {},
   "outputs": [],
   "source": [
    "sns.kdeplot([scores_cap[1][:,-1], scores_vid[1][:,-1]], clip=[-4,6], bw_adjust=2.0, common_norm=False)"
   ]
  },
  {
   "cell_type": "code",
   "execution_count": null,
   "metadata": {},
   "outputs": [],
   "source": [
    "print(labels_cap[0].shape)\n",
    "print(labels_vid[0].shape)\n",
    "import matplotlib.pyplot as plt\n",
    "plt.hist(labels_vid[0].flatten(), bins=21, range=[-0.025,1.025], histtype='step')"
   ]
  },
  {
   "cell_type": "code",
   "execution_count": null,
   "metadata": {},
   "outputs": [],
   "source": [
    "plt.hist(labels_vid[0].flatten(), bins=20, range=[0.025,1.025], histtype='step')"
   ]
  },
  {
   "cell_type": "code",
   "execution_count": null,
   "metadata": {},
   "outputs": [],
   "source": [
    "plt.hist(labels_vid[1].flatten(), bins=21, range=[-0.025,1.025], histtype='step')"
   ]
  },
  {
   "cell_type": "code",
   "execution_count": null,
   "metadata": {},
   "outputs": [],
   "source": [
    "plt.hist(labels_vid[1].flatten(), bins=20, range=[0.025,1.025], histtype='step')"
   ]
  },
  {
   "cell_type": "code",
   "execution_count": null,
   "metadata": {},
   "outputs": [],
   "source": [
    "fig, axes = plt.subplots(figsize=(8,4), ncols=1, nrows=1)\n",
    "axes.set_xlim(-4, 6)\n",
    "data = []\n",
    "for j in range(3): data.append(scores_cap[j][:,-1][labels_cap[j][:,-1] == 0.0])\n",
    "for j in range(3): data.append(scores_cap[j][:,-1][labels_cap[j][:,-1] == 1.0])\n",
    "sns.kdeplot(data, clip=[-4,6], bw_adjust=1.0, common_norm=False, ax = axes)\n",
    "fig.show()"
   ]
  },
  {
   "cell_type": "code",
   "execution_count": null,
   "metadata": {},
   "outputs": [],
   "source": [
    "fig, axes = plt.subplots(figsize=(8,4), ncols=1, nrows=1)\n",
    "axes.set_xlim(-4, 6)\n",
    "data = []\n",
    "for j in range(3): data.append(scores_vid[j][:,-1][labels_vid[j][:,-1] == 0.0])\n",
    "for j in range(3): data.append(scores_vid[j][:,-1][labels_vid[j][:,-1] == 1.0])\n",
    "sns.kdeplot(data, clip=[-4,6], bw_adjust=1.0, common_norm=False, ax = axes)\n",
    "fig.show()"
   ]
  },
  {
   "cell_type": "code",
   "execution_count": null,
   "metadata": {},
   "outputs": [],
   "source": [
    "def plot_kde(data, cnum, bounds=[-4,10]):\n",
    "    if not isinstance(cnum, list): cnum = [cnum]\n",
    "    l = len(cnum)\n",
    "    fig, axes = plt.subplots(l, 3, figsize=(12,2.5*l), squeeze=False)\n",
    "    fig.tight_layout(h_pad = 3.0, w_pad = 0.5)\n",
    "    xlabel_format = \"n: %d, p: %d, r: %.2f, ap: %.4f, z: %.2f\\n\" \\\n",
    "    + \"\\u03BC0: %.2f, \\u03BC1: %.2f, \\u03C3: %.2f, a: %.2f, b: %.2f, c: %.2f\"\n",
    "    for i, c in enumerate(cnum):\n",
    "        for j, s in enumerate(splits):\n",
    "            scores0, scores1, ap, z, n0, n1, mu0, mu1, sigma, a, b, r = data[j][c]\n",
    "            axes[i][j].set_xlim(bounds[0], bounds[1])\n",
    "            if not i: axes[i][j].set_title(s)\n",
    "            axes[i][j].set(xlabel = xlabel_format % (n0, n1, r, ap, z, mu0, mu1, sigma, a, b, -b/a))\n",
    "            sns.kdeplot(scores0, color = 'r', clip=bounds, bw_adjust=1.0,\n",
    "                        warn_singular=False, common_norm=False, legend=True, ax = axes[i][j], label = 'neg')\n",
    "            sns.kdeplot(scores1, color = 'g', clip=bounds, bw_adjust=1.0,\n",
    "                        warn_singular=False, common_norm=False, legend=True, ax = axes[i][j], label = 'pos')\n",
    "            axes[i][j].legend()\n",
    "            if j: axes[i][j].set(ylabel=None)\n",
    "            else: axes[i][j].set(ylabel=\"%d %s\" % (cnum[i]+1, cname[cnum[i]]))\n",
    "            axes[i][j].xaxis.set_label_position('top') \n",
    "    fig.show()"
   ]
  },
  {
   "cell_type": "code",
   "execution_count": null,
   "metadata": {},
   "outputs": [],
   "source": [
    "# rnum_cap = np.argsort((z_cap[1]+z_cap[2])/z_cap[0])\n",
    "znum_cap = np.argsort(-z_cap, axis=1)\n",
    "anum_cap = np.argsort(-ap_cap, axis=1)\n",
    "plot_kde(data_cap, list(anum_cap[0][0:6]))"
   ]
  },
  {
   "cell_type": "code",
   "execution_count": null,
   "metadata": {},
   "outputs": [],
   "source": [
    "plot_kde(data_cap, list(anum_cap[0][n_concepts//2-3:n_concepts//2+3]))"
   ]
  },
  {
   "cell_type": "code",
   "execution_count": null,
   "metadata": {},
   "outputs": [],
   "source": [
    "plot_kde(data_cap, list(anum_cap[0][n_concepts-6:n_concepts]))"
   ]
  },
  {
   "cell_type": "code",
   "execution_count": null,
   "metadata": {},
   "outputs": [],
   "source": [
    "znum_vid = np.argsort(-z_vid, axis=1)\n",
    "anum_vid = np.argsort(-ap_vid, axis=1)\n",
    "plot_kde(data_vid, list(anum_vid[0][0:6]))"
   ]
  },
  {
   "cell_type": "code",
   "execution_count": null,
   "metadata": {},
   "outputs": [],
   "source": [
    "plot_kde(data_vid, list(anum_vid[0][n_concepts//2-3:n_concepts//2+3]))"
   ]
  },
  {
   "cell_type": "code",
   "execution_count": null,
   "metadata": {},
   "outputs": [],
   "source": [
    "plot_kde(data_vid, list(anum_vid[0][n_concepts-6:n_concepts]))"
   ]
  },
  {
   "cell_type": "code",
   "execution_count": null,
   "metadata": {},
   "outputs": [],
   "source": [
    "plot_kde(data_cap, [101, 387, 499])"
   ]
  },
  {
   "cell_type": "code",
   "execution_count": null,
   "metadata": {},
   "outputs": [],
   "source": [
    "plot_kde(data_vid, [0, 101, 277])"
   ]
  },
  {
   "cell_type": "code",
   "execution_count": null,
   "metadata": {},
   "outputs": [],
   "source": [
    "# plot_kde(data_cap, list(rnum_cap[0:20]))"
   ]
  },
  {
   "cell_type": "code",
   "execution_count": null,
   "metadata": {},
   "outputs": [],
   "source": []
  }
 ],
 "metadata": {
  "kernelspec": {
   "display_name": "Python 3",
   "language": "python",
   "name": "python3"
  },
  "language_info": {
   "codemirror_mode": {
    "name": "ipython",
    "version": 3
   },
   "file_extension": ".py",
   "mimetype": "text/x-python",
   "name": "python",
   "nbconvert_exporter": "python",
   "pygments_lexer": "ipython3",
   "version": "3.7.3"
  }
 },
 "nbformat": 4,
 "nbformat_minor": 5
}
