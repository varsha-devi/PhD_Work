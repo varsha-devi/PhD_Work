{
 "cells": [
  {
   "cell_type": "markdown",
   "id": "58b2443f",
   "metadata": {},
   "source": [
    "### Read ids and tag scores"
   ]
  },
  {
   "cell_type": "code",
   "execution_count": null,
   "id": "489dc794",
   "metadata": {},
   "outputs": [],
   "source": [
    "import os\n",
    "import time\n",
    "import numpy as np\n",
    "\n",
    "print(os.cpu_count(), \"CPUs\")\n",
    "np.set_printoptions(precision=2, suppress=True, floatmode='fixed')\n",
    "\n",
    "VisualSearch = \"/home/mrim/deviv/Github_Repos_SoA/Hybrid_Space_Dual_Encoding/VisualSearch\"\n",
    "\n",
    "def getIdsTagScores(VisualSearch, split, con):\n",
    "    t0 = time.time()\n",
    "    print(\"Read \", end=\"\")\n",
    "    model_best = os.path.join(VisualSearch, \"results/save_scores/msrvtt10k_model_best.pth.tar\")\n",
    "    with open(os.path.join(model_best, split+\"_caption_ids.txt\"), 'r') as f:\n",
    "        cap_ids = [line.strip() for line in f]\n",
    "    with open(os.path.join(model_best, split+\"_video_ids.txt\"), 'r') as f:\n",
    "        vid_ids = [line.strip() for line in f]\n",
    "    if con == \"hybrid_512\": run, similarity = \"msrvtt10k_model_best.pth.tar\", \"jaccard\"\n",
    "    if con == \"jaccard_512\": run, similarity = \"concept_jaccard_512_runs_3.pth\", \"jaccard\"\n",
    "    if con == \"jaccard_256\": run, similarity = \"concept_jaccard_256_runs_5.pth\", \"jaccard\"\n",
    "    if con == \"cosine_512\": run, similarity = \"concept_cosine_512_runs_13.pth\", \"cosine\"\n",
    "    if con == \"cosine_256\": run, similarity = \"concept_cosine_256_runs_9.pth\", \"cosine\"\n",
    "    model_best = os.path.join(VisualSearch, \"experiments/pre_sig_feats/\"+con+\"/\"+split+\"/\"+run)\n",
    "    cap_tag_scores = np.load(os.path.join(model_best, \"cap_pre_sigmoid_\"+split+\".npy\"))\n",
    "    vid_tag_scores = np.load(os.path.join(model_best, \"vid_pre_sigmoid_\"+split+\".npy\"))\n",
    "    ncap, nvid, ntag = cap_tag_scores.shape[0], vid_tag_scores.shape[0], vid_tag_scores.shape[1]\n",
    "    print(\"(%d captions, %d videos, %d tags): %.2f seconds.\" % (ncap, nvid, ntag, time.time()-t0))\n",
    "    return (cap_ids, vid_ids, cap_tag_scores, vid_tag_scores), similarity"
   ]
  },
  {
   "cell_type": "markdown",
   "id": "72859d99",
   "metadata": {},
   "source": [
    "### Transform scores"
   ]
  },
  {
   "cell_type": "code",
   "execution_count": null,
   "id": "bd7dc0d5",
   "metadata": {},
   "outputs": [],
   "source": [
    "from scipy.special import expit\n",
    "from sklearn.preprocessing import normalize\n",
    "\n",
    "def spower(x,p):\n",
    "    return np.sign(x)*np.power(np.absolute(x), p)\n",
    "\n",
    "def simTransform(tag_scores, similarity, params):\n",
    "    if similarity == \"jaccard\":\n",
    "        return np.power(expit(params[1]*(tag_scores-params[0])), params[2])\n",
    "    return normalize(spower(tag_scores-params[0], params[2]), axis=1, norm='l2')\n",
    "\n",
    "def simTransforms(cap_tag_scores, vid_tag_scores, similarity, params):\n",
    "    t0 = time.time()\n",
    "    print(\"Transforms: \", end=\"\")\n",
    "    cap_tag_vals = simTransform(cap_tag_scores, similarity, params)\n",
    "    vid_tag_vals = simTransform(vid_tag_scores, similarity, params)\n",
    "    print(\"%.2f seconds.\" % (time.time()-t0))\n",
    "    return cap_tag_vals, vid_tag_vals"
   ]
  },
  {
   "cell_type": "markdown",
   "id": "c582fb72",
   "metadata": {},
   "source": [
    "### Similarity scores"
   ]
  },
  {
   "cell_type": "code",
   "execution_count": null,
   "id": "70b0e50c",
   "metadata": {},
   "outputs": [],
   "source": [
    "import concurrent.futures\n",
    "\n",
    "def getSimScoresJaccard(cap, vid, sel):\n",
    "    cap_exp, vid_exp = np.expand_dims(cap, axis=1), np.expand_dims(vid, axis=0)\n",
    "    cap_bro, vid_bro = np.broadcast_arrays(cap_exp, vid_exp)\n",
    "    if sel is None:\n",
    "        return (np.sum(np.minimum(cap_bro, vid_bro), axis=2, keepdims=True) /\n",
    "                np.sum(np.maximum(cap_bro, vid_bro), axis=2, keepdims=True))\n",
    "    min_bro = np.minimum(cap_bro, vid_bro)\n",
    "    max_bro = np.maximum(cap_bro, vid_bro)\n",
    "    ind_bro = np.argsort(min_bro, axis=2)\n",
    "    min_bro = np.take_along_axis(min_bro, ind_bro, axis=2)\n",
    "    max_bro = np.take_along_axis(max_bro, ind_bro, axis=2)\n",
    "    return (np.cumsum(min_bro, axis=2) / np.cumsum(max_bro, axis=2))[:,:,sel-1]\n",
    "\n",
    "def getSimScoresCosine(cap, vid, sel):\n",
    "    cap_exp, vid_exp = np.expand_dims(cap, axis=1), np.expand_dims(vid, axis=0)\n",
    "    cap_bro, vid_bro = np.broadcast_arrays(cap_exp, vid_exp)\n",
    "    if sel is None:\n",
    "        return (np.sum(cap_bro*vid_bro, axis=2, keepdims=True) /\n",
    "                np.sqrt(np.sum(np.square(cap_bro), axis=2, keepdims=True) *\n",
    "                        np.sum(np.square(vid_bro), axis=2, keepdims=True)))\n",
    "    ind_bro = np.argsort(-np.absolute(cap_bro*vid_bro), axis=2)\n",
    "    cap_bro = np.take_along_axis(cap_bro, ind_bro, axis=2)\n",
    "    vid_bro = np.take_along_axis(vid_bro, ind_bro, axis=2)\n",
    "    return (np.cumsum(cap_bro*vid_bro, axis=2) /\n",
    "            np.sqrt(np.cumsum(np.square(cap_bro), axis=2) *\n",
    "                    np.cumsum(np.square(vid_bro), axis=2)))[:,:,sel-1]\n",
    "\n",
    "def getSimScoresBlock(cap, vid, similarity, sel):\n",
    "    return getSimScoresJaccard(cap, vid, sel) if similarity == \"jaccard\" else getSimScoresCosine(cap, vid, sel)\n",
    "\n",
    "def getSimScoresSel(cap, vid, similarity, sel, blockSize=16777216): # blockSize is in items, not in bytes\n",
    "    nRows = blockSize//(vid.size) # max number of videos per block\n",
    "    nBlocks = -(-cap.shape[0]//nRows) # ceil(quotient)\n",
    "    print(\"Similarities (%d blocks): \" % nBlocks, end=\"\")\n",
    "    blocks = np.array_split(cap, nBlocks)\n",
    "    t0 = time.time()\n",
    "    executor = concurrent.futures.ThreadPoolExecutor()\n",
    "    futures = [executor.submit(getSimScoresBlock, block, vid, similarity, sel) for block in blocks]\n",
    "    concurrent.futures.wait(futures)\n",
    "    print(\"%.2f seconds.\" % (time.time()-t0))\n",
    "    t0 = time.time()\n",
    "    print(\"Concatenate \", end=\"\")\n",
    "    sim_scores = np.moveaxis(np.concatenate([block.result() for block in futures]), -1, 0)\n",
    "    print(sim_scores.shape, end=\"\")\n",
    "    print(\": %.2f seconds.\" % (time.time()-t0))\n",
    "    return sim_scores"
   ]
  },
  {
   "cell_type": "markdown",
   "id": "097f88d4",
   "metadata": {},
   "source": [
    "### Metrics"
   ]
  },
  {
   "cell_type": "code",
   "execution_count": null,
   "id": "2e1913f1",
   "metadata": {},
   "outputs": [],
   "source": [
    "def blockMetrics(labels, scores):\n",
    "    sorted_labels = np.take_along_axis(labels, np.argsort(-scores, axis=1), axis=1).astype(float)\n",
    "    rel = np.cumsum(sorted_labels, axis=1)\n",
    "    r1 = sorted_labels[:,0]\n",
    "    r5 = np.max(sorted_labels[:,0:5], axis=1)\n",
    "    r10 = np.max(sorted_labels[:,0:10], axis=1)\n",
    "    ap = np.sum(sorted_labels*rel/np.arange(1.0, sorted_labels.shape[1]+1.0), axis=1)/rel[:,-1]\n",
    "    ranks = np.argmax(sorted_labels, axis=1)\n",
    "    return r1, r5, r10, ap, ranks\n",
    "\n",
    "def getMetrics(labels, scores):\n",
    "    nThreads = os.cpu_count()\n",
    "    labels_blocks, scores_blocks = np.array_split(labels, nThreads), np.array_split(scores, nThreads)\n",
    "    executor = concurrent.futures.ThreadPoolExecutor()\n",
    "    futures = [executor.submit(blockMetrics, labels_block, scores_block)\n",
    "               for labels_block, scores_block in zip(labels_blocks, scores_blocks)]\n",
    "    concurrent.futures.wait(futures)\n",
    "    result_blocks = [block.result() for block in futures]\n",
    "    metrics = [np.mean(np.concatenate([result_block[i] for result_block in result_blocks])) for i in range(4)]\n",
    "    ranks = np.concatenate([result_block[4] for result_block in result_blocks])\n",
    "    metrics.append(np.floor(np.median(ranks))+1)\n",
    "    metrics.append(np.mean(ranks)+1)\n",
    "    metrics.append(metrics[0]+metrics[1]+metrics[2])\n",
    "    return metrics\n",
    "\n",
    "def allMetrics(labels, scores):\n",
    "    ttv_metrics = getMetrics(labels, scores)\n",
    "    vtt_metrics = getMetrics(np.transpose(labels), np.transpose(scores))\n",
    "    metrics = ttv_metrics+vtt_metrics\n",
    "    metrics.append((metrics[3]+metrics[10])/2)\n",
    "    metrics.append(metrics[6]+metrics[13])\n",
    "    return metrics\n",
    "\n",
    "def printMetrics(metrics):\n",
    "    print(\" * Text to Video:\")\n",
    "    print(\" * r_1_5_10, medr, meanr: [%.3f, %.3f, %.3f, %.1f, %.3f]\" %\n",
    "          (100*metrics[0], 100*metrics[1], 100*metrics[2], metrics[4], metrics[5]))\n",
    "    print(\" * recall sum: %.3f\" % (100*metrics[6]))\n",
    "    print(\" * mAP: %.4f\" % metrics[3])\n",
    "    print(\" * ----------\")\n",
    "    print(\" * Video to text:\")\n",
    "    print(\" * r_1_5_10, medr, meanr: [%.3f, %.3f, %.3f, %.1f, %.3f]\" %\n",
    "          (100*metrics[7], 100*metrics[8], 100*metrics[9], metrics[11], metrics[12]))\n",
    "    print(\" * recall sum: %.3f\" % (100*metrics[13]))\n",
    "    print(\" * mAP: %.4f\" % metrics[10])\n",
    "    print(\" * ----------\")\n",
    "    print(\" * Global:\")\n",
    "    print(\" * recall sum: %.3f\" % (100*metrics[15]))\n",
    "    print(\" * mAP: %.4f\" % metrics[14])\n",
    "    print(\" * ----------\")\n",
    "\n",
    "def printMetricsLatex(metrics):\n",
    "    print(\"  & %4.1f & %4.1f & %4.1f & %2d & %4.1f && %4.1f & %4.1f & %4.1f & %2d & %4.1f & %5.1f & %4.1f \\\\\\\\\" %\n",
    "          (100*metrics[0], 100*metrics[1], 100*metrics[2], int(metrics[4]), 100*metrics[3], 100*metrics[7],\n",
    "           100*metrics[8], 100*metrics[9], int(metrics[11]), 100*metrics[10], 100*metrics[15], 100*metrics[14]))\n",
    "\n",
    "def getMetricsSel(labels, sim_scores, print_metrics=False, print_metrics_latex=False):\n",
    "    t0 = time.time()\n",
    "    print(\"Metrics \", end=\"\")\n",
    "    metrics = np.array([allMetrics(labels, scores) for scores in sim_scores])\n",
    "    print(metrics.shape, end=\"\")\n",
    "    print(\": %.2f seconds.\" % (time.time()-t0))\n",
    "    if print_metrics:\n",
    "        printMetrics(metrics[-1])\n",
    "    if print_metrics_latex:\n",
    "        printMetricsLatex(metrics[-1])\n",
    "    return metrics"
   ]
  },
  {
   "cell_type": "markdown",
   "id": "61617d38",
   "metadata": {},
   "source": [
    "### Pairs for statistics"
   ]
  },
  {
   "cell_type": "code",
   "execution_count": null,
   "id": "a388f18f",
   "metadata": {},
   "outputs": [],
   "source": [
    "def matchedPairs(cap_ids, vid_ids):\n",
    "    vid_idx = [vid_ids.index(cap_id.split('#', 1)[0]) for cap_id in cap_ids]\n",
    "    return np.arange(len(cap_ids)), np.array(vid_idx)\n",
    "\n",
    "def randomPairs(ncap, nvid, num):\n",
    "    pairs = np.random.choice(ncap*nvid, num, replace=False)\n",
    "    return pairs % ncap, pairs // ncap\n",
    "\n",
    "def getPairs(scores, n, matched_pairs, random_pairs):\n",
    "    t0 = time.time()\n",
    "    sort_idx = np.argsort(-scores, axis=1)\n",
    "    ttv_pairs_1 = np.arange(scores.shape[0]), sort_idx[:,0].flatten()\n",
    "    ttv_pairs_n = np.repeat(np.arange(scores.shape[0]), n), sort_idx[:,:n].flatten()\n",
    "    sort_idx = np.argsort(-scores, axis=0)\n",
    "    vtt_pairs_1 = sort_idx[0,:].flatten(), np.arange(scores.shape[1])\n",
    "    vtt_pairs_n = sort_idx[:n,:].flatten(), np.tile(np.arange(scores.shape[1]), n)\n",
    "    pairs = [[ttv_pairs_1, vtt_pairs_1, matched_pairs], [ttv_pairs_n, vtt_pairs_n, random_pairs]]\n",
    "    print(\"Pairs: %.2f seconds.\" % (time.time()-t0))\n",
    "    return pairs"
   ]
  },
  {
   "cell_type": "markdown",
   "id": "bd6e92e7",
   "metadata": {},
   "source": [
    "### Lists for statistics"
   ]
  },
  {
   "cell_type": "code",
   "execution_count": null,
   "id": "cf6b6248",
   "metadata": {},
   "outputs": [],
   "source": [
    "def transposeLists(l):\n",
    "    return(list(map(list, zip(*l))))\n",
    "\n",
    "def getElems(cap_tag_scores, vid_tag_scores, similarity, matched_pairs, random_pairs, params, sel_step,\n",
    "             get_metrics, get_pairs, print_metrics, print_metrics_latex):\n",
    "    print(\"Params (shift=%.3f, scale=%.3f, power=%.3f)\" % (params[0], params[1], params[2]))\n",
    "    sel = np.unique(np.array([round(2**(i/sel_step)) for i in range(2*sel_step, 10*sel_step)\n",
    "          if round(2**(i/sel_step)) <= cap_tag_scores.shape[1]])) if sel_step > 0 else None\n",
    "    cap_tag_vals, vid_tag_vals = simTransforms(cap_tag_scores, vid_tag_scores, similarity, params)\n",
    "    labels = np.zeros((cap_tag_scores.shape[0], vid_tag_scores.shape[0]), dtype=int)\n",
    "    labels[matched_pairs[0],matched_pairs[1]] = 1\n",
    "    sim_scores = getSimScoresSel(cap_tag_vals, vid_tag_vals, similarity, sel)\n",
    "    metrics = getMetricsSel(labels, sim_scores, print_metrics=print_metrics, print_metrics_latex=print_metrics_latex) \\\n",
    "    if get_metrics else None\n",
    "    pairs = getPairs(sim_scores[-1], 10, matched_pairs, random_pairs) if get_pairs else None\n",
    "    return cap_tag_vals, vid_tag_vals, metrics, pairs\n",
    "\n",
    "def getLists(ids_tag_scores, similarity, params_list=[[0.0, 1.0, 1.0]], sel_step=0,\n",
    "             get_metrics=True, get_pairs=True, print_metrics=False, print_metrics_latex=False):\n",
    "    cap_ids, vid_ids, cap_tag_scores, vid_tag_scores = ids_tag_scores\n",
    "    matched_pairs = matchedPairs(cap_ids, vid_ids)\n",
    "    random_pairs = randomPairs(cap_tag_scores.shape[0], vid_tag_scores.shape[0], 100000)\n",
    "    return [getElems(cap_tag_scores, vid_tag_scores, similarity, matched_pairs, random_pairs, params, sel_step,\n",
    "                     get_metrics=get_metrics, get_pairs=get_pairs, print_metrics=print_metrics,\n",
    "                     print_metrics_latex=print_metrics_latex) for params in params_list]"
   ]
  },
  {
   "cell_type": "markdown",
   "id": "420d3e4d",
   "metadata": {},
   "source": [
    "### Contribution plots"
   ]
  },
  {
   "cell_type": "code",
   "execution_count": null,
   "id": "f0c93ac7",
   "metadata": {},
   "outputs": [],
   "source": [
    "def blockContribs(cap_tag_vals, vid_tag_vals, similarity, pairs, absolute):\n",
    "    cap, vid = cap_tag_vals[pairs[0]], vid_tag_vals[pairs[1]]\n",
    "    if similarity == \"jaccard\":\n",
    "        contribs = np.minimum(cap, vid)\n",
    "    else:\n",
    "        contribs = np.absolute(cap*vid)\n",
    "    if absolute == 0:\n",
    "        ind_contribs = normalize(-np.sort(-contribs, axis=1), axis=1, norm='l1')\n",
    "        cum_contribs = np.cumsum(ind_contribs, axis=1)\n",
    "    if absolute == 1:\n",
    "        ind_contribs = -np.sort(-contribs, axis=1)\n",
    "        cum_contribs = np.cumsum(normalize(ind_contribs, axis=1, norm='l1'), axis=1)\n",
    "    if absolute == 2:\n",
    "        ind_contribs = -np.sort(-contribs, axis=1)\n",
    "        cum_contribs = np.cumsum(ind_contribs, axis=1)\n",
    "    return ind_contribs, cum_contribs\n",
    "\n",
    "def statContribs(cap_tag_vals, vid_tag_vals, similarity, pairs, absolute=0):\n",
    "    nThreads = os.cpu_count()\n",
    "    pairs_blocks = [np.array_split(pairs[0], nThreads), np.array_split(pairs[1], nThreads)]\n",
    "    executor = concurrent.futures.ThreadPoolExecutor()\n",
    "    futures = [executor.submit(blockContribs, cap_tag_vals, vid_tag_vals, similarity, pairs_block, absolute)\n",
    "               for pairs_block in zip(pairs_blocks[0], pairs_blocks[1])]\n",
    "    done, not_done = concurrent.futures.wait(futures)\n",
    "    result_blocks = [block.result() for block in futures]\n",
    "    ind_contribs, cum_contribs = [np.concatenate([result_block[i] for result_block in result_blocks]) for i in range(2)]\n",
    "    return np.average(ind_contribs, axis=0), np.std(ind_contribs, axis=0, ddof=1), \\\n",
    "           np.average(cum_contribs, axis=0), np.std(cum_contribs, axis=0, ddof=1)\n",
    "\n",
    "import matplotlib.pyplot as plt\n",
    "from matplotlib.ticker import FuncFormatter\n",
    "formatter = FuncFormatter(lambda y, _: '{:.16g}'.format(y))\n",
    "\n",
    "h, w = 2, 3\n",
    "titles = [[\"Text to Video Top-1\", \"Video to Text Top-1\",\"Matched pairs\"],\n",
    "          [\"Text to Video Top-10\", \"Video to Text Top-10\", \"Random pairs\"]]\n",
    "\n",
    "def margeLimits(dmin, dmax, margin=0.05):\n",
    "    return dmin-margin*(dmax-dmin), dmax+margin*(dmax-dmin)\n",
    "\n",
    "def plotStatContribs(lists, similarity, titles, legends=None, scale=\"linear\", stdDev=True, absolute=0, all_labels=False,\n",
    "                     pdf=\"curves.pdf\"):\n",
    "    t0 = time.time()\n",
    "    contribsList = [[[statContribs(cap_tag_vals, vid_tag_vals, similarity, pairs, absolute=absolute) \\\n",
    "    for pairs in pairsRow] for pairsRow in pairsMatrix] for (cap_tag_vals, vid_tag_vals, _, pairsMatrix) in lists]\n",
    "    contribsLists = np.moveaxis(np.array(contribsList, dtype=object), 0, 2)\n",
    "    print(\"Stats: %.2f seconds.\" % (time.time()-t0))\n",
    "    t0 = time.time()\n",
    "    if stdDev:\n",
    "        col1, col2 = 'steelblue', 'red'\n",
    "    else:\n",
    "        col1, col2 = 'black', 'black'\n",
    "    fig, axes = plt.subplots(h, w, figsize=(16+2*all_labels,8+all_labels))\n",
    "    fig.tight_layout(h_pad = 3.0+all_labels*2.0, w_pad = 5.0+all_labels*4.0)\n",
    "    if stdDev:\n",
    "        ind_max = np.max([[[np.max(ind_avg+ind_std) for ind_avg, ind_std, _, _ in contribs]\n",
    "                        for contribs in contribsRows] for contribsRows in contribsLists])\n",
    "    else:\n",
    "        ind_max = np.max([[[np.max(ind_avg) for ind_avg, _, _, _ in contribs]\n",
    "                        for contribs in contribsRows] for contribsRows in contribsLists])\n",
    "    print(ind_max)\n",
    "    for j in range(h):\n",
    "        for i in range(w):\n",
    "            print(titles[j][i]+\":\")\n",
    "            ax1 = axes[j][i]\n",
    "            if scale==\"log\":\n",
    "                ax1.set_xscale(\"log\", base=2)\n",
    "                ax1.xaxis.set_major_formatter(formatter)\n",
    "                ax1.set_xticks([2**n for n in range(12)])\n",
    "            if absolute > 0:\n",
    "                ax1.set_ylim(margeLimits(0, 1))\n",
    "            else:\n",
    "                ax1.set_ylim(margeLimits(0, ind_max))\n",
    "            ax2 = ax1.twinx()\n",
    "            for ind_avg, ind_std, cum_avg, cum_std in contribsLists[j][i]:\n",
    "                ind_avg, ind_std = np.array(ind_avg, dtype=float), np.array(ind_std, dtype=float)\n",
    "                cum_avg, cum_std = np.array(cum_avg, dtype=float), np.array(cum_std, dtype=float)\n",
    "                print(\"%.3f  %.3f\" % (cum_avg[9], cum_avg[29]))\n",
    "                x = 1+np.arange(ind_avg.shape[0])\n",
    "                if stdDev:\n",
    "                    ax1.plot(x, ind_avg, color=col1)\n",
    "                    ax2.plot(x, cum_avg, color=col2)\n",
    "                    ax1.fill_between(x, ind_avg-ind_std, np.minimum(1,ind_avg+ind_std), alpha=.3, linewidth=0, color=col1)\n",
    "                    ax2.fill_between(x, cum_avg-cum_std, cum_avg+cum_std, alpha=.3, linewidth=0, color=col2)\n",
    "                else:\n",
    "                    ax1.plot(x, ind_avg)\n",
    "                    ax2.plot(x, cum_avg)\n",
    "                    if legends is not None:\n",
    "                        ax1.legend(legends, loc='upper center')\n",
    "            if (j+1 == h or  all_labels):\n",
    "                ax1.set_xlabel('Sorted tags ', fontsize=16)\n",
    "            if (i == 0 or all_labels):\n",
    "                if absolute > 0:\n",
    "                    ax1.set_ylabel('Absolute tag contribution', color=col1, fontsize=16)\n",
    "                else:\n",
    "                    ax1.set_ylabel('Relative tag contribution', color=col1, fontsize=16)\n",
    "            if (i+1 == w or all_labels):\n",
    "                if absolute > 1:\n",
    "                    ax2.set_ylabel('Absolute cummulative sum', color=col2, fontsize=16)\n",
    "                else:\n",
    "                    ax2.set_ylabel('Relative cummulative sum', color=col2, fontsize=16)\n",
    "            plt.title(titles[j][i])\n",
    "    plt.savefig(pdf, format=\"pdf\", bbox_inches='tight')\n",
    "    plt.show()\n",
    "    print(\"Plots: %.2f seconds.\" % (time.time()-t0))"
   ]
  },
  {
   "cell_type": "code",
   "execution_count": null,
   "id": "65f1f47b",
   "metadata": {
    "scrolled": false
   },
   "outputs": [],
   "source": [
    "ids_tag_scores, similarity = getIdsTagScores(VisualSearch, \"val\", \"hybrid_512\")\n",
    "lists = getLists(ids_tag_scores, similarity)\n",
    "plotStatContribs(lists, similarity, titles, scale=\"linear\", pdf=\"causality_curve_1.pdf\")\n",
    "plotStatContribs(lists, similarity, titles, scale=\"log\", pdf=\"causality_curve_log_1.pdf\")"
   ]
  },
  {
   "cell_type": "code",
   "execution_count": null,
   "id": "9dc37549",
   "metadata": {},
   "outputs": [],
   "source": [
    "params = [[0.0, 1.0, 0.5*i] for i in range(2, 7)]\n",
    "legends = [\"p=%.1f\" % (0.5*i) for i in range(2, 7)]\n",
    "ids_tag_scores, similarity = getIdsTagScores(VisualSearch, \"val\", \"hybrid_512\")\n",
    "lists = getLists(ids_tag_scores, similarity, params, get_metrics=False)\n",
    "plotStatContribs(lists, similarity, titles, legends, scale=\"log\", stdDev=False, all_labels=True,\n",
    "                 pdf=\"causality_power_log_5.pdf\")"
   ]
  },
  {
   "cell_type": "code",
   "execution_count": null,
   "id": "c3c39767",
   "metadata": {},
   "outputs": [],
   "source": [
    "params = [[0.0, 1.0*i, 1.0] for i in range(1, 6)]\n",
    "legends = [\"a=%.1f\" % (1.0*i) for i in range(1, 6)]\n",
    "ids_tag_scores, similarity = getIdsTagScores(VisualSearch, \"val\", \"hybrid_512\")\n",
    "lists = getLists(ids_tag_scores, similarity, params, get_metrics=False)\n",
    "plotStatContribs(lists, similarity, titles, legends, scale=\"log\", stdDev=False, all_labels=True,\n",
    "                 pdf=\"causality_scale_log_5.pdf\")"
   ]
  },
  {
   "cell_type": "code",
   "execution_count": null,
   "id": "1842e5ad",
   "metadata": {},
   "outputs": [],
   "source": [
    "params = [[0.2*i, 3.0, 1.0] for i in range(-2, 3)]\n",
    "legends = [\"b=%.1f\" % (0.2*i) for i in range(-2, 3)]\n",
    "ids_tag_scores, similarity = getIdsTagScores(VisualSearch, \"val\", \"hybrid_512\")\n",
    "lists = getLists(ids_tag_scores, similarity, params, get_metrics=False)\n",
    "plotStatContribs(lists, similarity, titles, legends, scale=\"log\", stdDev=False, all_labels=True,\n",
    "                 pdf=\"causality_shift_log_5.pdf\")"
   ]
  },
  {
   "cell_type": "code",
   "execution_count": null,
   "id": "7fb7dfbc",
   "metadata": {},
   "outputs": [],
   "source": [
    "params = [[0.0, 1.0, 0.5*i] for i in range(2, 7)]\n",
    "legends = [\"p=%.1f\" % (0.5*i) for i in range(2, 7)]\n",
    "ids_tag_scores, similarity = getIdsTagScores(VisualSearch, \"val\", \"cosine_512\")\n",
    "lists = getLists(ids_tag_scores, similarity, params, get_metrics=False)\n",
    "plotStatContribs(lists, similarity, titles, legends, scale=\"log\", stdDev=False, all_labels=True,\n",
    "                 pdf=\"causality_power_cosine_log_5.pdf\")"
   ]
  },
  {
   "cell_type": "code",
   "execution_count": null,
   "id": "2b700e53",
   "metadata": {},
   "outputs": [],
   "source": [
    "params = [[0.2*i, 1.0, 2.0] for i in range(-2, 3)]\n",
    "legends = [\"b=%.1f\" % (0.2*i) for i in range(-2, 3)]\n",
    "ids_tag_scores, similarity = getIdsTagScores(VisualSearch, \"val\", \"hybrid_512\")\n",
    "lists = getLists(ids_tag_scores, similarity, params, get_metrics=False)\n",
    "plotStatContribs(lists, similarity, titles, legends, scale=\"log\", stdDev=False, all_labels=True,\n",
    "                 pdf=\"causality_shift_cosine_log_5.pdf\")"
   ]
  },
  {
   "cell_type": "code",
   "execution_count": null,
   "id": "7cdc4be8",
   "metadata": {},
   "outputs": [],
   "source": [
    "ids_tag_scores, similarity = getIdsTagScores(VisualSearch, \"val\", \"jaccard_512\")\n",
    "lists512 = getLists(ids_tag_scores, similarity, [[0.0, 1.0, 1.0], [0.0, 2.2, 1.0]], get_metrics=False)\n",
    "ids_tag_scores, similarity = getIdsTagScores(VisualSearch, \"val\", \"jaccard_256\")\n",
    "lists256 = getLists(ids_tag_scores, similarity, [[0.0, 1.0, 1.0], [0.0, 1.8, 1.0]], get_metrics=False)\n",
    "plotStatContribs(lists512+lists256, similarity, titles, scale=\"log\", stdDev=False)"
   ]
  },
  {
   "cell_type": "code",
   "execution_count": null,
   "id": "0356d65e",
   "metadata": {
    "scrolled": false
   },
   "outputs": [],
   "source": [
    "# [shift, scale, power]\n",
    "params_list = [[0.0, 1.0, 1.0], # Baseline\n",
    "               [0.0, 1.0, 2.6], # power 2.6 / 2.5\n",
    "               [0.0, 3.6, 1.0], # scale 3.6 / 3.5\n",
    "               [-0.1, 3.6, 1.0]] # shift / -0.1\n",
    "ids_tag_scores, similarity = getIdsTagScores(VisualSearch, \"val\", \"hybrid_512\")\n",
    "lists = getLists(ids_tag_scores, similarity, params_list, get_metrics=False)\n",
    "plotStatContribs(lists, similarity, titles, scale=\"log\", stdDev=False, pdf=\"hybrid_512_curve_log_power.pdf\")"
   ]
  },
  {
   "cell_type": "code",
   "execution_count": null,
   "id": "d29fda35",
   "metadata": {
    "scrolled": false
   },
   "outputs": [],
   "source": [
    "params_list = [[0.0, 1.0, 1.0], # Baseline\n",
    "               [0.0, 1.0, 2.6], # power 2.6 / 2.5\n",
    "               [0.0, 3.6, 1.0], # scale 3.6 / 3.5\n",
    "               [-0.1, 3.5, 1.0]] # +shift / -0.1\n",
    "ids_tag_scores, similarity = getIdsTagScores(VisualSearch, \"test\", \"hybrid_512\")\n",
    "lists = getLists(ids_tag_scores, similarity, params_list, get_metrics=False)\n",
    "plotStatContribs(lists, similarity, titles, scale=\"log\", stdDev=False, pdf=\"jaccard_256_curve_log_power.pdf\")"
   ]
  },
  {
   "cell_type": "code",
   "execution_count": null,
   "id": "0ac46d46",
   "metadata": {
    "scrolled": false
   },
   "outputs": [],
   "source": [
    "params_list = [[0.0, 1.0, 1.0], # Baseline\n",
    "               [0.0, 1.0, 2.1], # power 3.3 / 2.1\n",
    "               [0.0, 2.7, 1.0], # scale 3.0 / 2.7\n",
    "               [-0.4, 2.7, 1.0]] # +shift / -0.4\n",
    "ids_tag_scores, similarity = getIdsTagScores(VisualSearch, \"val\", \"jaccard_512\")\n",
    "lists = getLists(ids_tag_scores, similarity, params_list, get_metrics=False)\n",
    "plotStatContribs(lists, similarity, titles, scale=\"log\", stdDev=False, pdf=\"jaccard_256_curve_log_power.pdf\")"
   ]
  },
  {
   "cell_type": "code",
   "execution_count": null,
   "id": "5214585d",
   "metadata": {
    "scrolled": false
   },
   "outputs": [],
   "source": [
    "params_list = [[0.0, 1.0, 1.0], # Baseline\n",
    "               [0.0, 1.0, 1.6], # power 1.8 / 1.6\n",
    "               [0.0, 2.0, 1.0], # scale 2.2 / 2.0\n",
    "               [-0.3, 2.0, 1.0]] # +shift / -0.4\n",
    "ids_tag_scores, similarity = getIdsTagScores(VisualSearch, \"val\", \"jaccard_256\")\n",
    "lists = getLists(ids_tag_scores, similarity, params_list, get_metrics=False)\n",
    "plotStatContribs(lists, similarity, titles, scale=\"log\", stdDev=False, pdf=\"jaccard_256_curve_log_power.pdf\")"
   ]
  },
  {
   "cell_type": "code",
   "execution_count": null,
   "id": "1ead7122",
   "metadata": {
    "scrolled": false
   },
   "outputs": [],
   "source": [
    "params_list = [[0.0, 1.0, 1.0], # Baseline\n",
    "               [0.0, 1.0, 1.2], # power 1.25 / 1.2\n",
    "               [-0.3, 1.0, 1.0]] # +shift / -0.3\n",
    "ids_tag_scores, similarity = getIdsTagScores(VisualSearch, \"val\", \"cosine_512\")\n",
    "lists = getLists(ids_tag_scores, similarity, params_list, get_metrics=False)\n",
    "plotStatContribs(lists, similarity, titles, scale=\"log\", stdDev=False, pdf=\"cosine_512_curve_log_power.pdf\")"
   ]
  },
  {
   "cell_type": "code",
   "execution_count": null,
   "id": "72d65bca",
   "metadata": {},
   "outputs": [],
   "source": [
    "ids_tag_scores, similarity = getIdsTagScores(VisualSearch, \"val\", \"jaccard_512\")\n",
    "lists = getLists(ids_tag_scores, similarity, get_pairs=False, print_metrics=True)\n",
    "metrics = np.array([elems[2] for elems in lists])\n",
    "print(100*metrics[:,:,14:16])"
   ]
  },
  {
   "cell_type": "code",
   "execution_count": null,
   "id": "9479b3c6",
   "metadata": {
    "scrolled": false
   },
   "outputs": [],
   "source": [
    "ids_tag_scores, similarity = getIdsTagScores(VisualSearch, \"val\", \"jaccard_512\")\n",
    "lists = getLists(ids_tag_scores, similarity, sel_step=5, get_pairs=False, print_metrics=True)\n",
    "metrics = np.array([elems[2] for elems in lists])\n",
    "print(100*metrics[:,:,14:16])"
   ]
  },
  {
   "cell_type": "code",
   "execution_count": null,
   "id": "e611188f",
   "metadata": {},
   "outputs": [],
   "source": [
    "ids_tag_scores, similarity = getIdsTagScores(VisualSearch, \"test\", \"hybrid_512\")\n",
    "lists = getLists(ids_tag_scores, similarity, get_pairs=False, print_metrics_latex=True)\n",
    "metrics = np.array([elems[2] for elems in lists])"
   ]
  },
  {
   "cell_type": "code",
   "execution_count": null,
   "id": "a0bda280",
   "metadata": {},
   "outputs": [],
   "source": [
    "ids_tag_scores, similarity = getIdsTagScores(VisualSearch, \"test\", \"jaccard_512\")\n",
    "lists = getLists(ids_tag_scores, similarity, get_pairs=False, print_metrics_latex=True)\n",
    "metrics = np.array([elems[2] for elems in lists])"
   ]
  },
  {
   "cell_type": "code",
   "execution_count": null,
   "id": "50acbc1f",
   "metadata": {},
   "outputs": [],
   "source": [
    "ids_tag_scores, similarity = getIdsTagScores(VisualSearch, \"test\", \"jaccard_256\")\n",
    "lists = getLists(ids_tag_scores, similarity, get_pairs=False, print_metrics_latex=True)\n",
    "metrics = np.array([elems[2] for elems in lists])"
   ]
  },
  {
   "cell_type": "code",
   "execution_count": null,
   "id": "0c1c0c25",
   "metadata": {},
   "outputs": [],
   "source": [
    "ids_tag_scores, similarity = getIdsTagScores(VisualSearch, \"test\", \"cosine_512\")\n",
    "lists = getLists(ids_tag_scores, similarity, get_pairs=False, print_metrics_latex=True)\n",
    "metrics = np.array([elems[2] for elems in lists])"
   ]
  },
  {
   "cell_type": "code",
   "execution_count": null,
   "id": "a6c23e61",
   "metadata": {},
   "outputs": [],
   "source": [
    "ids_tag_scores, similarity = getIdsTagScores(VisualSearch, \"test\", \"cosine_256\")\n",
    "lists = getLists(ids_tag_scores, similarity, get_pairs=False, print_metrics_latex=True)\n",
    "metrics = np.array([elems[2] for elems in lists])"
   ]
  },
  {
   "cell_type": "code",
   "execution_count": null,
   "id": "25671fc0",
   "metadata": {
    "scrolled": false
   },
   "outputs": [],
   "source": [
    "# Sanity check: results from original software (v8):\n",
    "\"\"\"\n",
    "Concept Space Evaluation\n",
    " * Text to Video:\n",
    " * r_1_5_10, medr, meanr: [26.026, 55.03, 66.177, 4.0, 28.409]\n",
    " * recall sum: 147.233\n",
    " * mAP: 0.3942\n",
    " * ----------\n",
    " * Video to text:\n",
    " * r_1_5_10, medr, meanr: [44.064, 76.056, 86.72, 2.0, 9.559]\n",
    " * recall sum: 206.841\n",
    " * mAP: 0.2615\n",
    " * ----------\n",
    "\"\"\"\n",
    "ids_tag_scores, similarity = getIdsTagScores(VisualSearch, \"val\", \"cosine_512\")\n",
    "lists = getLists(ids_tag_scores, similarity, get_pairs=False, print_metrics=True, print_metrics_latex=True)\n",
    "metrics = np.array([elems[2] for elems in lists])\n",
    "print(100*metrics[:,:,14:16])"
   ]
  },
  {
   "cell_type": "markdown",
   "id": "134698d3",
   "metadata": {},
   "source": [
    "### (Manual) search for optimal (shift, scale) parameters for Hybrid_512 on the validation set"
   ]
  },
  {
   "cell_type": "code",
   "execution_count": null,
   "id": "718c962c",
   "metadata": {
    "scrolled": false
   },
   "outputs": [],
   "source": [
    "params = [[-0.1, 2.7+0.1*i, 1.0] for i in range(11)]\n",
    "ids_tag_scores, similarity = getIdsTagScores(VisualSearch, \"val\", \"hybrid_512\")\n",
    "lists = getLists(ids_tag_scores, similarity, params, get_pairs=False, print_metrics=False)\n",
    "metrics = np.array([elems[2] for elems in lists])\n",
    "print(np.array(list(zip([param[1] for param in params], 100*metrics[:,0,14]))))"
   ]
  },
  {
   "cell_type": "code",
   "execution_count": null,
   "id": "11d7d744",
   "metadata": {},
   "outputs": [],
   "source": [
    "params = [[0.2-0.05*i, 3.2, 1.0] for i in range(11)]\n",
    "ids_tag_scores, similarity = getIdsTagScores(VisualSearch, \"val\", \"hybrid_512\")\n",
    "lists = getLists(ids_tag_scores, similarity, params, get_pairs=False, print_metrics=False)\n",
    "metrics = np.array([elems[2] for elems in lists])\n",
    "print(np.array(list(zip([param[0] for param in params], 100*metrics[:,0,14]))))"
   ]
  },
  {
   "cell_type": "code",
   "execution_count": null,
   "id": "f1f92383",
   "metadata": {},
   "outputs": [],
   "source": [
    "params = [[0.0, 1.0, 1.0], [0.0, 3.20, 1.0], [-0.1, 3.2, 1.0]]\n",
    "ids_tag_scores, similarity = getIdsTagScores(VisualSearch, \"val\", \"hybrid_512\")\n",
    "lists = getLists(ids_tag_scores, similarity, params, print_metrics=False)\n",
    "# lists = getLists(ids_tag_scores, similarity, params, sel_step=5, print_metrics=False)\n",
    "metrics = np.array([elems[2] for elems in lists])\n",
    "print(100*metrics[:,:,14:16])\n",
    "plotStatContribs(lists, similarity, titles, scale=\"log\", stdDev=False)"
   ]
  },
  {
   "cell_type": "code",
   "execution_count": null,
   "id": "c9f9b550",
   "metadata": {},
   "outputs": [],
   "source": [
    "params = [[0.0, 1.0, 1.0], [0.0, 3.20, 1.0], [-0.1, 3.2, 1.0]]\n",
    "ids_tag_scores, similarity = getIdsTagScores(VisualSearch, \"test\", \"hybrid_512\")\n",
    "lists = getLists(ids_tag_scores, similarity, params, print_metrics=False)\n",
    "# lists = getLists(ids_tag_scores, similarity, params, sel_step=5, print_metrics=False)\n",
    "metrics = np.array([elems[2] for elems in lists])\n",
    "print(100*metrics[:,:,14:16])\n",
    "plotStatContribs(lists, similarity, titles, scale=\"log\", stdDev=False)"
   ]
  },
  {
   "cell_type": "markdown",
   "id": "60d8993e",
   "metadata": {},
   "source": [
    "### (Manual) search for optimal (shift, scale) parameters for jaccard_512 on the validation set"
   ]
  },
  {
   "cell_type": "code",
   "execution_count": null,
   "id": "fbe87c6f",
   "metadata": {},
   "outputs": [],
   "source": [
    "params = [[-0.45, 3.0+0.1*i, 1.0] for i in range(11)]\n",
    "ids_tag_scores, similarity = getIdsTagScores(VisualSearch, \"val\", \"jaccard_512\")\n",
    "lists = getLists(ids_tag_scores, similarity, params, get_pairs=False, print_metrics=False)\n",
    "metrics = np.array([elems[2] for elems in lists])\n",
    "print(np.array(list(zip([param[1] for param in params], 100*metrics[:,0,14]))))"
   ]
  },
  {
   "cell_type": "code",
   "execution_count": null,
   "id": "0a5825a9",
   "metadata": {},
   "outputs": [],
   "source": [
    "params = [[-0.2-0.05*i, 3.6, 1.0] for i in range(11)]\n",
    "ids_tag_scores, similarity = getIdsTagScores(VisualSearch, \"val\", \"jaccard_512\")\n",
    "lists = getLists(ids_tag_scores, similarity, params, get_pairs=False, print_metrics=False)\n",
    "metrics = np.array([elems[2] for elems in lists])\n",
    "print(np.array(list(zip([param[0] for param in params], 100*metrics[:,0,14]))))"
   ]
  },
  {
   "cell_type": "code",
   "execution_count": null,
   "id": "d494c539",
   "metadata": {},
   "outputs": [],
   "source": [
    "params = [[0.0, 1.0, 1.0], [0.0, 2.9, 1.0], [-0.45, 3.6, 1.0]]\n",
    "ids_tag_scores, similarity = getIdsTagScores(VisualSearch, \"val\", \"jaccard_512\")\n",
    "lists = getLists(ids_tag_scores, similarity, params, print_metrics=False)\n",
    "# lists = getLists(ids_tag_scores, similarity, params, sel_step=5, print_metrics=False)\n",
    "metrics = np.array([elems[2] for elems in lists])\n",
    "print(100*metrics[:,:,14:16])\n",
    "plotStatContribs(lists, similarity, titles, scale=\"log\", stdDev=False)"
   ]
  },
  {
   "cell_type": "code",
   "execution_count": null,
   "id": "98333248",
   "metadata": {},
   "outputs": [],
   "source": [
    "params = [[0.0, 1.0, 1.0], [0.0, 2.9, 1.0], [-0.45, 3.6, 1.0]]\n",
    "ids_tag_scores, similarity = getIdsTagScores(VisualSearch, \"test\", \"jaccard_512\")\n",
    "lists = getLists(ids_tag_scores, similarity, params, print_metrics=False)\n",
    "# lists = getLists(ids_tag_scores, similarity, params, sel_step=5, print_metrics=False)\n",
    "metrics = np.array([elems[2] for elems in lists])\n",
    "print(100*metrics[:,:,14:16])\n",
    "plotStatContribs(lists, similarity, titles, scale=\"log\", stdDev=False)"
   ]
  },
  {
   "cell_type": "markdown",
   "id": "d41a7797",
   "metadata": {},
   "source": [
    "### (Manual) search for optimal (shift, scale, power) parameters for Jaccard_256 on the validation set"
   ]
  },
  {
   "cell_type": "code",
   "execution_count": null,
   "id": "62d7431a",
   "metadata": {},
   "outputs": [],
   "source": [
    "params = [[0.0, 2.0+0.1*i, 0.7] for i in range(11)]\n",
    "ids_tag_scores, similarity = getIdsTagScores(VisualSearch, \"val\", \"jaccard_256\")\n",
    "lists = getLists(ids_tag_scores, similarity, params, get_pairs=False, print_metrics=False)\n",
    "metrics = np.array([elems[2] for elems in lists])\n",
    "print(np.array(list(zip([param[1] for param in params], 100*metrics[:,0,14]))))"
   ]
  },
  {
   "cell_type": "code",
   "execution_count": null,
   "id": "d15a12ec",
   "metadata": {},
   "outputs": [],
   "source": [
    "params = [[-0.2-0.05*i, 3.1, 1.0] for i in range(11)]\n",
    "ids_tag_scores, similarity = getIdsTagScores(VisualSearch, \"val\", \"jaccard_256\")\n",
    "lists = getLists(ids_tag_scores, similarity, params, get_pairs=False, print_metrics=False)\n",
    "metrics = np.array([elems[2] for elems in lists])\n",
    "print(np.array(list(zip([param[0] for param in params], 100*metrics[:,0,14]))))"
   ]
  },
  {
   "cell_type": "code",
   "execution_count": null,
   "id": "4e734ce8",
   "metadata": {},
   "outputs": [],
   "source": [
    "params = [[0.0, 2.7, 0.5+0.05*i] for i in range(11)]\n",
    "ids_tag_scores, similarity = getIdsTagScores(VisualSearch, \"val\", \"jaccard_256\")\n",
    "lists = getLists(ids_tag_scores, similarity, params, get_pairs=False, print_metrics=False)\n",
    "metrics = np.array([elems[2] for elems in lists])\n",
    "print(np.array(list(zip([param[2] for param in params], 100*metrics[:,0,14]))))"
   ]
  },
  {
   "cell_type": "code",
   "execution_count": null,
   "id": "63b4e081",
   "metadata": {},
   "outputs": [],
   "source": [
    "params = [[0.0, 1.0, 1.0], [0.0, 2.95, 1.0], [-0.50, 3.1, 1.0], [0.0, 2.7, 0.7]]\n",
    "ids_tag_scores, similarity = getIdsTagScores(VisualSearch, \"val\", \"jaccard_256\")\n",
    "lists = getLists(ids_tag_scores, similarity, params, print_metrics=False)\n",
    "# lists = getLists(ids_tag_scores, similarity, params, sel_step=5, print_metrics=False)\n",
    "metrics = np.array([elems[2] for elems in lists])\n",
    "print(100*metrics[:,:,14:16])\n",
    "plotStatContribs(lists, similarity, titles, scale=\"log\", stdDev=False)"
   ]
  },
  {
   "cell_type": "code",
   "execution_count": null,
   "id": "b4fe4267",
   "metadata": {
    "scrolled": false
   },
   "outputs": [],
   "source": [
    "params = [[0.0, 1.0, 1.0], [0.0, 2.95, 1.0], [-0.50, 3.1, 1.0]]\n",
    "ids_tag_scores, similarity = getIdsTagScores(VisualSearch, \"test\", \"jaccard_256\")\n",
    "lists = getLists(ids_tag_scores, similarity, params, print_metrics=False)\n",
    "# lists = getLists(ids_tag_scores, similarity, params, sel_step=5, print_metrics=False)\n",
    "metrics = np.array([elems[2] for elems in lists])\n",
    "print(100*metrics[:,:,14:16])\n",
    "plotStatContribs(lists, similarity, titles, scale=\"log\", stdDev=False)"
   ]
  },
  {
   "cell_type": "markdown",
   "id": "7b29a759",
   "metadata": {},
   "source": [
    "### (Manual) search for optimal (shift, power) parameters for hybrid_512 on the validation set"
   ]
  },
  {
   "cell_type": "code",
   "execution_count": null,
   "id": "4957a89c",
   "metadata": {},
   "outputs": [],
   "source": [
    "params = [[-1.55, 1.0, 7.9+0.1*i] for i in range(11)]\n",
    "ids_tag_scores, similarity = getIdsTagScores(VisualSearch, \"val\", \"hybrid_512\")\n",
    "lists = getLists(ids_tag_scores, similarity, params, get_pairs=False, print_metrics=False)\n",
    "metrics = np.array([elems[2] for elems in lists])\n",
    "print(np.array(list(zip([param[2] for param in params], 100*metrics[:,0,14]))))"
   ]
  },
  {
   "cell_type": "code",
   "execution_count": null,
   "id": "f19b96f8",
   "metadata": {},
   "outputs": [],
   "source": [
    "params = [[-1.1-0.1*i, 1.0, 8.60] for i in range(11)]\n",
    "ids_tag_scores, similarity = getIdsTagScores(VisualSearch, \"val\", \"hybrid_512\")\n",
    "lists = getLists(ids_tag_scores, similarity, params, get_pairs=False, print_metrics=False)\n",
    "metrics = np.array([elems[2] for elems in lists])\n",
    "print(np.array(list(zip([param[0] for param in params], 100*metrics[:,0,14]))))"
   ]
  },
  {
   "cell_type": "code",
   "execution_count": null,
   "id": "7d617377",
   "metadata": {
    "scrolled": false
   },
   "outputs": [],
   "source": [
    "params = [[0.0, 1.0, 1.0], [0.0, 1.0, 2.70], [-1.55, 1.0, 6.60]]\n",
    "ids_tag_scores, similarity = getIdsTagScores(VisualSearch, \"val\", \"hybrid_512\")\n",
    "lists = getLists(ids_tag_scores, similarity, params, sel_step=5, print_metrics=False)\n",
    "metrics = np.array([elems[2] for elems in lists])\n",
    "print(100*metrics[:,:,14:16])\n",
    "plotStatContribs(lists, similarity, titles, scale=\"log\", stdDev=False)"
   ]
  },
  {
   "cell_type": "code",
   "execution_count": null,
   "id": "7aae2ec8",
   "metadata": {
    "scrolled": false
   },
   "outputs": [],
   "source": [
    "params = [[0.0, 1.0, 1.0], [0.0, 1.0, 2.70], [-1.55, 1.0, 6.60]]\n",
    "ids_tag_scores, similarity = getIdsTagScores(VisualSearch, \"test\", \"hybrid_512\")\n",
    "lists = getLists(ids_tag_scores, similarity, params, sel_step=5, print_metrics=False)\n",
    "metrics = np.array([elems[2] for elems in lists])\n",
    "print(100*metrics[:,:,14:16])\n",
    "plotStatContribs(lists, similarity, titles, scale=\"log\", stdDev=False)"
   ]
  },
  {
   "cell_type": "markdown",
   "id": "27d36d19",
   "metadata": {},
   "source": [
    "### (Manual) search for optimal (shift, power) parameters for Jaccard_512 on the validation set"
   ]
  },
  {
   "cell_type": "code",
   "execution_count": null,
   "id": "82dee395",
   "metadata": {},
   "outputs": [],
   "source": [
    "params = [[-1.60, 1.0, 6.2+0.1*i] for i in range(11)]\n",
    "ids_tag_scores, similarity = getIdsTagScores(VisualSearch, \"val\", \"jaccard_512\")\n",
    "lists = getLists(ids_tag_scores, similarity, params, get_pairs=False, print_metrics=False)\n",
    "metrics = np.array([elems[2] for elems in lists])\n",
    "print(np.array(list(zip([param[2] for param in params], 100*metrics[:,0,14]))))"
   ]
  },
  {
   "cell_type": "code",
   "execution_count": null,
   "id": "787ba3f6",
   "metadata": {},
   "outputs": [],
   "source": [
    "params = [[-1.2-0.1*i, 1.0, 6.80] for i in range(11)]\n",
    "ids_tag_scores, similarity = getIdsTagScores(VisualSearch, \"val\", \"jaccard_512\")\n",
    "lists = getLists(ids_tag_scores, similarity, params, get_pairs=False, print_metrics=False)\n",
    "metrics = np.array([elems[2] for elems in lists])\n",
    "print(np.array(list(zip([param[0] for param in params], 100*metrics[:,0,14]))))"
   ]
  },
  {
   "cell_type": "code",
   "execution_count": null,
   "id": "f33e5934",
   "metadata": {
    "scrolled": false
   },
   "outputs": [],
   "source": [
    "params = [[0.0, 1.0, 1.0], [0.0, 1.0, 2.20], [-1.60, 1.0, 6.80]]\n",
    "ids_tag_scores, similarity = getIdsTagScores(VisualSearch, \"val\", \"jaccard_512\")\n",
    "lists = getLists(ids_tag_scores, similarity, params, sel_step=5, print_metrics=False)\n",
    "metrics = np.array([elems[2] for elems in lists])\n",
    "print(100*metrics[:,:,14:16])\n",
    "plotStatContribs(lists, similarity, titles, scale=\"log\", stdDev=False)"
   ]
  },
  {
   "cell_type": "code",
   "execution_count": null,
   "id": "e7db0e26",
   "metadata": {
    "scrolled": false
   },
   "outputs": [],
   "source": [
    "params = [[0.0, 1.0, 1.0], [0.0, 1.0, 2.20], [-1.60, 1.0, 6.80]]\n",
    "ids_tag_scores, similarity = getIdsTagScores(VisualSearch, \"test\", \"jaccard_512\")\n",
    "lists = getLists(ids_tag_scores, similarity, params, sel_step=5, print_metrics=False)\n",
    "metrics = np.array([elems[2] for elems in lists])\n",
    "print(100*metrics[:,:,14:16])\n",
    "plotStatContribs(lists, similarity, titles, scale=\"log\", stdDev=False)"
   ]
  },
  {
   "cell_type": "markdown",
   "id": "5ecb13b5",
   "metadata": {},
   "source": [
    "### (Manual) search for optimal (shift, power) parameters for Jaccard_256 on the validation set"
   ]
  },
  {
   "cell_type": "code",
   "execution_count": null,
   "id": "f28e37b4",
   "metadata": {},
   "outputs": [],
   "source": [
    "params = [[-1.80, 1.0, 6.0+0.1*i] for i in range(11)]\n",
    "ids_tag_scores, similarity = getIdsTagScores(VisualSearch, \"val\", \"jaccard_256\")\n",
    "lists = getLists(ids_tag_scores, similarity, params, get_pairs=False, print_metrics=False)\n",
    "metrics = np.array([elems[2] for elems in lists])\n",
    "print(np.array(list(zip([param[2] for param in params], 100*metrics[:,0,14]))))"
   ]
  },
  {
   "cell_type": "code",
   "execution_count": null,
   "id": "969303ef",
   "metadata": {},
   "outputs": [],
   "source": [
    "params = [[-1.2-0.1*i, 1.0, 6.60] for i in range(11)]\n",
    "ids_tag_scores, similarity = getIdsTagScores(VisualSearch, \"val\", \"jaccard_256\")\n",
    "lists = getLists(ids_tag_scores, similarity, params, get_pairs=False, print_metrics=False)\n",
    "metrics = np.array([elems[2] for elems in lists])\n",
    "print(np.array(list(zip([param[0] for param in params], 100*metrics[:,0,14]))))"
   ]
  },
  {
   "cell_type": "code",
   "execution_count": null,
   "id": "1d435e4c",
   "metadata": {
    "scrolled": false
   },
   "outputs": [],
   "source": [
    "params = [[0.0, 1.0, 1.0], [0.0, 1.0, 1.80], [-1.80, 1.0, 6.60]]\n",
    "ids_tag_scores, similarity = getIdsTagScores(VisualSearch, \"val\", \"jaccard_256\")\n",
    "lists = getLists(ids_tag_scores, similarity, params, sel_step=5, print_metrics=False)\n",
    "metrics = np.array([elems[2] for elems in lists])\n",
    "print(100*metrics[:,:,14:16])\n",
    "plotStatContribs(lists, similarity, titles, scale=\"log\", stdDev=False)"
   ]
  },
  {
   "cell_type": "code",
   "execution_count": null,
   "id": "b75a0129",
   "metadata": {
    "scrolled": false
   },
   "outputs": [],
   "source": [
    "params = [[0.0, 1.0, 1.0], [0.0, 1.0, 1.80], [-1.80, 1.0, 6.60]]\n",
    "ids_tag_scores, similarity = getIdsTagScores(VisualSearch, \"test\", \"jaccard_256\")\n",
    "lists = getLists(ids_tag_scores, similarity, params, sel_step=5, print_metrics=False)\n",
    "metrics = np.array([elems[2] for elems in lists])\n",
    "print(100*metrics[:,:,14:16])\n",
    "plotStatContribs(lists, similarity, titles, scale=\"log\", stdDev=False)"
   ]
  },
  {
   "cell_type": "markdown",
   "id": "4365822f",
   "metadata": {},
   "source": [
    "### (Manual) search for optimal parameters for cosine_512 on the validation set"
   ]
  },
  {
   "cell_type": "code",
   "execution_count": null,
   "id": "8e6d7fef",
   "metadata": {},
   "outputs": [],
   "source": [
    "params = [[-0.25, 1.0, 1.0+0.05*i] for i in range(7)]\n",
    "ids_tag_scores, similarity = getIdsTagScores(VisualSearch, \"val\", \"cosine_512\")\n",
    "lists = getLists(ids_tag_scores, similarity, params, get_pairs=False, print_metrics=False)\n",
    "metrics = np.array([elems[2] for elems in lists])\n",
    "print(np.array(list(zip([param[2] for param in params], 100*metrics[:,0,14]))))"
   ]
  },
  {
   "cell_type": "code",
   "execution_count": null,
   "id": "8ae4ed86",
   "metadata": {
    "scrolled": false
   },
   "outputs": [],
   "source": [
    "params = [[-0.1-0.05*i, 1.0, 1.07] for i in range(8)]\n",
    "ids_tag_scores, similarity = getIdsTagScores(VisualSearch, \"val\", \"cosine_512\")\n",
    "lists = getLists(ids_tag_scores, similarity, params, get_pairs=False, print_metrics=False)\n",
    "metrics = np.array([elems[2] for elems in lists])\n",
    "print(np.array(list(zip([param[0] for param in params], 100*metrics[:,0,14]))))"
   ]
  },
  {
   "cell_type": "code",
   "execution_count": null,
   "id": "6f632e93",
   "metadata": {
    "scrolled": false
   },
   "outputs": [],
   "source": [
    "params = [[0.0, 1.0, 1.0], [-0.25, 1.0, 1.07]]\n",
    "ids_tag_scores, similarity = getIdsTagScores(VisualSearch, \"val\", \"cosine_512\")\n",
    "lists = getLists(ids_tag_scores, similarity, params, sel_step=5, print_metrics=False)\n",
    "metrics = np.array([elems[2] for elems in lists])\n",
    "print(100*metrics[:,:,14:16])\n",
    "plotStatContribs(lists, similarity, titles, scale=\"log\", stdDev=False)"
   ]
  },
  {
   "cell_type": "code",
   "execution_count": null,
   "id": "1f6e22eb",
   "metadata": {
    "scrolled": false
   },
   "outputs": [],
   "source": [
    "params = [[0.0, 1.0, 1.0], [-0.25, 1.0, 1.07]]\n",
    "ids_tag_scores, similarity = getIdsTagScores(VisualSearch, \"test\", \"cosine_512\")\n",
    "lists = getLists(ids_tag_scores, similarity, params, sel_step=5, print_metrics=False)\n",
    "metrics = np.array([elems[2] for elems in lists])\n",
    "print(100*metrics[:,:,14:16])\n",
    "plotStatContribs(lists, similarity, titles, scale=\"log\", stdDev=False)"
   ]
  },
  {
   "cell_type": "markdown",
   "id": "b4bd26dd",
   "metadata": {},
   "source": [
    "### (Manual) search for optimal parameters for cosine_256 on the validation set"
   ]
  },
  {
   "cell_type": "code",
   "execution_count": null,
   "id": "1c4c8823",
   "metadata": {
    "scrolled": false
   },
   "outputs": [],
   "source": [
    "params = [[-0.24, 1.0, 0.80+0.05*i] for i in range(8)]\n",
    "ids_tag_scores, similarity = getIdsTagScores(VisualSearch, \"val\", \"cosine_256\")\n",
    "lists = getLists(ids_tag_scores, similarity, params, get_pairs=False, print_metrics=False)\n",
    "metrics = np.array([elems[2] for elems in lists])\n",
    "print(np.array(list(zip([param[2] for param in params], 100*metrics[:,0,14]))))"
   ]
  },
  {
   "cell_type": "code",
   "execution_count": null,
   "id": "231b3b40",
   "metadata": {
    "scrolled": false
   },
   "outputs": [],
   "source": [
    "params = [[-0.1-0.05*i, 1.0, 0.98] for i in range(8)]\n",
    "ids_tag_scores, similarity = getIdsTagScores(VisualSearch, \"val\", \"cosine_256\")\n",
    "lists = getLists(ids_tag_scores, similarity, params, get_pairs=False, print_metrics=False)\n",
    "metrics = np.array([elems[2] for elems in lists])\n",
    "print(np.array(list(zip([param[0] for param in params], 100*metrics[:,0,14]))))"
   ]
  },
  {
   "cell_type": "code",
   "execution_count": null,
   "id": "d95ef8b9",
   "metadata": {
    "scrolled": false
   },
   "outputs": [],
   "source": [
    "params = [[0.0, 1.0, 1.0], [-0.24, 1.0, 0.98]]\n",
    "ids_tag_scores, similarity = getIdsTagScores(VisualSearch, \"val\", \"cosine_256\")\n",
    "lists = getLists(ids_tag_scores, similarity, params, sel_step=5, print_metrics=False)\n",
    "metrics = np.array([elems[2] for elems in lists])\n",
    "print(100*metrics[:,:,14:16])\n",
    "plotStatContribs(lists, similarity, titles, scale=\"log\", stdDev=False)"
   ]
  },
  {
   "cell_type": "code",
   "execution_count": null,
   "id": "6ed4cd2c",
   "metadata": {
    "scrolled": false
   },
   "outputs": [],
   "source": [
    "params = [[0.0, 1.0, 1.0], [-0.24, 1.0, 0.98]]\n",
    "ids_tag_scores, similarity = getIdsTagScores(VisualSearch, \"test\", \"cosine_256\")\n",
    "lists = getLists(ids_tag_scores, similarity, params, sel_step=5, print_metrics=False)\n",
    "metrics = np.array([elems[2] for elems in lists])\n",
    "print(100*metrics[:,:,14:16])\n",
    "plotStatContribs(lists, similarity, titles, scale=\"log\", stdDev=False)"
   ]
  },
  {
   "cell_type": "markdown",
   "id": "7cbd9444",
   "metadata": {},
   "source": []
  },
  {
   "cell_type": "code",
   "execution_count": null,
   "id": "3c2ec4a7",
   "metadata": {
    "scrolled": false
   },
   "outputs": [],
   "source": [
    "params_list = [[0.0, 1.0, 1.0], # Baseline\n",
    "               [-0.25, 1.0, 1.0]] # +shift -0.3\n",
    "ids_tag_scores, similarity = getIdsTagScores(VisualSearch, \"test\", \"cosine_256\")\n",
    "lists = getLists(ids_tag_scores, similarity, params_list)\n",
    "print(100*np.array(lists[2])[:,:,14:16])\n",
    "plotStatContribs(lists, similarity, titles, scale=\"log\", stdDev=False, pdf=\"cosine_256_curve_log_power.pdf\")"
   ]
  },
  {
   "cell_type": "code",
   "execution_count": null,
   "id": "e1a30211",
   "metadata": {
    "scrolled": false
   },
   "outputs": [],
   "source": [
    "params_list = [[0.0, 1.0, 1.0], # Baseline\n",
    "               [0.0, 3.5, 1.0]] # scale 3.5\n",
    "ids_tag_scores, similarity = getIdsTagScores(VisualSearch, \"val\", \"hybrid_512\")\n",
    "lists = getLists(ids_tag_scores, similarity, params_list)\n",
    "plotStatContribs(lists, similarity, titles, scale=\"linear\", pdf=\"causality_curve_2.pdf\")\n",
    "plotStatContribs(lists, similarity, titles, scale=\"log\", pdf=\"causality_curve_log_2.pdf\")\n",
    "plotStatContribs(lists, similarity, titles, scale=\"log\", absolute=1, pdf=\"causality_curve_log_abs_2.pdf\")\n",
    "plotStatContribs(lists, similarity, titles, scale=\"log\", absolute=2, pdf=\"causality_curve_log_abs_abs_2.pdf\")"
   ]
  },
  {
   "cell_type": "code",
   "execution_count": null,
   "id": "571491df",
   "metadata": {
    "scrolled": false
   },
   "outputs": [],
   "source": [
    "params_list = [[0.0, 1.0, 1.0], # Baseline\n",
    "               [0.0, 1.0, 2.0],\n",
    "               [0.0, 1.0, 3.0],\n",
    "               [0.0, 1.0, 4.0],\n",
    "               [0.0, 1.0, 5.0]]\n",
    "lists = getLists(ids_tag_scores, similarity, params_list)\n",
    "plotStatContribs(lists, similarity, titles, scale=\"linear\", stdDev=False, pdf=\"causality_curve_power.pdf\")\n",
    "plotStatContribs(lists, similarity, titles, scale=\"log\", stdDev=False, pdf=\"causality_curve_log_power.pdf\")"
   ]
  },
  {
   "cell_type": "code",
   "execution_count": null,
   "id": "2a5533df",
   "metadata": {
    "scrolled": false
   },
   "outputs": [],
   "source": [
    "params_list = [[0.0, 2**0.0, 1.0], # Baseline\n",
    "               [0.0, 2**0.5, 1.0],\n",
    "               [0.0, 2**1.0, 1.0],\n",
    "               [0.0, 2**1.5, 1.0],\n",
    "               [0.0, 2**2.0, 1.0]]\n",
    "lists = getLists(ids_tag_scores, similarity, params_list)\n",
    "plotStatContribs(lists, similarity, titles, scale=\"linear\", stdDev=False, pdf=\"causality_curve_scale.pdf\")\n",
    "plotStatContribs(lists, similarity, titles, scale=\"log\", stdDev=False, pdf=\"causality_curve_log_scale.pdf\")"
   ]
  },
  {
   "cell_type": "code",
   "execution_count": null,
   "id": "2b34e686",
   "metadata": {},
   "outputs": [],
   "source": [
    "params_list = [[-0.4, 3.5, 1.0],\n",
    "               [-0.2, 3.5, 1.0],\n",
    "               [ 0.0, 3.3, 1.0],\n",
    "               [ 0.2, 3.5, 1.0],\n",
    "               [ 0.4, 3.5, 1.0]]\n",
    "lists = getLists(ids_tag_scores, similarity, params_list)\n",
    "plotStatContribs(lists, similarity, titles, scale=\"linear\", stdDev=False, pdf=\"causality_curve_shift.pdf\")\n",
    "plotStatContribs(lists, similarity, titles, scale=\"log\", stdDev=False, pdf=\"causality_curve_log_shift.pdf\")"
   ]
  },
  {
   "cell_type": "code",
   "execution_count": null,
   "id": "c6fa6356",
   "metadata": {},
   "outputs": [],
   "source": [
    "params_list = [[0.0, 1.0, 1.0], # Baseline\n",
    "               [0.0, 1.0, 3.0], # Power 3.0\n",
    "               [0.0, 3.5, 1.0]] # Scale 3.5\n",
    "lists = getLists(ids_tag_scores, similarity, params_list)\n",
    "plotStatContribs(lists, similarity, titles, scale=\"linear\", stdDev=False, pdf=\"causality_curve_power_scale.pdf\")\n",
    "plotStatContribs(lists, similarity, titles, scale=\"log\", stdDev=False, pdf=\"causality_curve_log_power_scale.pdf\")"
   ]
  },
  {
   "cell_type": "code",
   "execution_count": null,
   "id": "028777cc",
   "metadata": {},
   "outputs": [],
   "source": []
  }
 ],
 "metadata": {
  "kernelspec": {
   "display_name": "Python 3 (ipykernel)",
   "language": "python",
   "name": "python3"
  },
  "language_info": {
   "codemirror_mode": {
    "name": "ipython",
    "version": 3
   },
   "file_extension": ".py",
   "mimetype": "text/x-python",
   "name": "python",
   "nbconvert_exporter": "python",
   "pygments_lexer": "ipython3",
   "version": "3.7.4"
  }
 },
 "nbformat": 4,
 "nbformat_minor": 5
}
