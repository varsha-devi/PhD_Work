{
 "cells": [
  {
   "cell_type": "code",
   "execution_count": 1,
   "id": "c0f9a237",
   "metadata": {},
   "outputs": [],
   "source": [
    "import os\n",
    "import math\n",
    "import numpy as np\n",
    "from matplotlib import pyplot as plt\n",
    "import time\n",
    "import torch"
   ]
  },
  {
   "cell_type": "code",
   "execution_count": 2,
   "id": "ed1de51b",
   "metadata": {},
   "outputs": [],
   "source": [
    "testDir = \"/home/mrim/quenot/irim/pytorch/dual_encoding_experiments/VisualSearchResults/msrvtt10k/test_results\"\n",
    "\n",
    "def loadEmbs(testDir, expName, runNum, embsName=\"embs.pth\"):\n",
    "    runDir = os.path.join(testDir, expName, \"runs_%d/model_best\" % runNum)\n",
    "    embs = torch.load(os.path.join(runDir, embsName))\n",
    "    return embs\n",
    "\n",
    "def saveEmbs(embs, testDir, expName, runNum, embsName=\"embs_fuse.pth\"):\n",
    "    runDir = os.path.join(testDir, expName, \"runs_%d/model_best\" % runNum)\n",
    "    torch.save(embs, os.path.join(runDir, embsName))"
   ]
  },
  {
   "cell_type": "code",
   "execution_count": 3,
   "id": "adc33ebf",
   "metadata": {},
   "outputs": [],
   "source": [
    "for n in range(10):\n",
    "    embs0 = loadEmbs(testDir, \"latent_512_cxd\", n)\n",
    "    embs1 = loadEmbs(testDir, \"latent_512_cxd\", n+1)\n",
    "    embs0['video_tag_scores'] = embs1['video_embs']\n",
    "    embs0['cap_tag_scores'] = embs1['cap_embs']\n",
    "    saveEmbs(embs0, testDir, \"hybrid_512_512_nocl_xi_cos_dp\", n, embsName=\"embs_fuse.pth\")"
   ]
  },
  {
   "cell_type": "code",
   "execution_count": null,
   "id": "544ecfea",
   "metadata": {},
   "outputs": [],
   "source": []
  }
 ],
 "metadata": {
  "kernelspec": {
   "display_name": "Python 3 (ipykernel)",
   "language": "python",
   "name": "python3"
  },
  "language_info": {
   "codemirror_mode": {
    "name": "ipython",
    "version": 3
   },
   "file_extension": ".py",
   "mimetype": "text/x-python",
   "name": "python",
   "nbconvert_exporter": "python",
   "pygments_lexer": "ipython3",
   "version": "3.7.4"
  }
 },
 "nbformat": 4,
 "nbformat_minor": 5
}
